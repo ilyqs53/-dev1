{
 "cells": [
  {
   "cell_type": "code",
   "execution_count": null,
   "id": "30952ab5",
   "metadata": {},
   "outputs": [],
   "source": [
    "import pandas as pd\n",
    "import numpy as np\n",
    "# Excel dosyasını okuyun\n",
    "# Aşağıda belirtiler excell dosyasının yoludur.Sistemden sisteme değişiklilik gösterebilir. \n",
    "excel_dosya_yolu = r'C:\\Users\\ilyqs\\Downloads\\soru1_2_data (1).xlsx'\n",
    "df = pd.read_excel(excel_dosya_yolu)\n",
    "data = df.to_numpy()\n",
    "M, N = data.shape\n",
    "L = 256\n",
    "histogram, _ = np.histogram(data.flatten(), bins=np.arange(L))\n",
    "cdf = histogram.cumsum()\n",
    "cdf_min = cdf[cdf > 0].min()\n",
    "h_v = np.round((cdf[data.astype('int')] - cdf_min) / (M*N - cdf_min) * (L-1))\n",
    "print(h_v.reshape(M, N))"
   ]
  }
 ],
 "metadata": {
  "jupytext": {
   "cell_metadata_filter": "-all",
   "main_language": "python",
   "notebook_metadata_filter": "-all"
  }
 },
 "nbformat": 4,
 "nbformat_minor": 5
}
