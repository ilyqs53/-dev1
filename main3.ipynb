{
 "cells": [
  {
   "cell_type": "code",
   "execution_count": null,
   "id": "7075df1d",
   "metadata": {
    "lines_to_next_cell": 2
   },
   "outputs": [],
   "source": [
    "yoğunluk_değerleri = [100, 101, 102, 104, 105, 106, 107, 108, 109, 110, 140, 141, 142, 143, 144, 145, 146, 147, 148, 149, 150]\n",
    "piksel_sayıları = [12, 10, 32, 52, 65, 55, 42, 32, 16, 10, 5, 18, 25, 32, 40, 65, 43, 32, 20, 10, 4]\n",
    "T0 = 100\n",
    "epsilon = 1\n",
    "while True:\n",
    "    G1 = [(p, y) for p, y in zip(piksel_sayıları, yoğunluk_değerleri) if y > T0]\n",
    "    G2 = [(p, y) for p, y in zip(piksel_sayıları, yoğunluk_değerleri) if y <= T0]\n",
    "    if G1:\n",
    "        m1 = sum(p * y for p, y in G1) / sum(p for p, y in G1)\n",
    "    else:\n",
    "        m1 = 0\n",
    "\n",
    "    if G2:\n",
    "        m2 = sum(p * y for p, y in G2) / sum(p for p, y in G2)\n",
    "    else:\n",
    "        m2 = 0\n",
    "    T1 = (m1 + m2) / 2\n",
    "    if abs(T1 - T0) < epsilon:\n",
    "        break\n",
    "    T0 = T1\n",
    "print(f\"Optimum eşik değeri: {T1}\")"
   ]
  }
 ],
 "metadata": {
  "jupytext": {
   "cell_metadata_filter": "-all",
   "main_language": "python",
   "notebook_metadata_filter": "-all"
  }
 },
 "nbformat": 4,
 "nbformat_minor": 5
}
