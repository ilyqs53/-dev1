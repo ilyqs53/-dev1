{
 "cells": [
  {
   "cell_type": "code",
   "execution_count": null,
   "id": "9a4343d2",
   "metadata": {},
   "outputs": [],
   "source": [
    "import numpy as np\n",
    "import pandas as pd"
   ]
  },
  {
   "cell_type": "code",
   "execution_count": null,
   "id": "2daba49b",
   "metadata": {},
   "outputs": [],
   "source": [
    "# Excel dosyasını okuyun\n",
    "# Aşağıda belirtiler excell dosyasının yoludur.Sistemden sisteme değişiklilik gösterebilir. \n",
    "df = pd.read_excel(r'C:\\Users\\ilyqs\\Downloads\\soru3_data.xlsx', header=None)\n",
    "image = df.values\n",
    "# Gauss filtresi kerneli\n",
    "kernel = np.array([[1, 2, 1],\n",
    "                   [2, 4, 2],\n",
    "                   [1, 2, 1]]) * (1/16)\n",
    "output_image_size = (30, 30)\n",
    "output_image = np.zeros(output_image_size)\n",
    "for i in range(1, image.shape[0] - 1):\n",
    "    for j in range(1, image.shape[1] - 1):\n",
    "        output_image[i-1, j-1] = np.sum(image[i-1:i+2, j-1:j+2] * kernel)\n",
    "print(output_image)"
   ]
  }
 ],
 "metadata": {
  "jupytext": {
   "cell_metadata_filter": "-all",
   "main_language": "python",
   "notebook_metadata_filter": "-all"
  }
 },
 "nbformat": 4,
 "nbformat_minor": 5
}
