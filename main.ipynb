{
 "cells": [
  {
   "cell_type": "code",
   "execution_count": null,
   "id": "a361827d",
   "metadata": {},
   "outputs": [],
   "source": [
    "import openpyxl\n",
    "import numpy as np"
   ]
  },
  {
   "cell_type": "code",
   "execution_count": null,
   "id": "dc07296a",
   "metadata": {},
   "outputs": [],
   "source": [
    "# Excel dosyasının doğru yolunu buraya ekleyin.\n",
    "# Aşağıda belirtiler excell dosyasının yoludur.Sistemden sisteme değişiklilik gösterebilir. \n",
    "excel_dosya_yolu = r'C:\\Users\\ilyqs\\Downloads\\soru1_2_data (1).xlsx'\n",
    "wb = openpyxl.load_workbook(excel_dosya_yolu)\n",
    "sheet = wb.active\n",
    "data = np.array([[cell.value for cell in row] for row in sheet.iter_rows(min_row=2)])  # min_row=2, başlık satırını atlamak için\n",
    "min_pixel_value = data.min()\n",
    "max_pixel_value = data.max()\n",
    "L = 256\n",
    "A_new = (data - min_pixel_value) / (max_pixel_value - min_pixel_value) * (L - 1)\n",
    "wb_new = openpyxl.Workbook()\n",
    "sheet_new = wb_new.active\n",
    "for i, row in enumerate(A_new):\n",
    "    for j, value in enumerate(row):\n",
    "        sheet_new.cell(row=i+1, column=j+1, value=value)\n",
    "# Sonuç dosyasının oluşacağı yolu buraya eklemeliyiz bu sayede yeni dosya istediğiniz yere  oluşturulacaktır.\n",
    "sonuc_dosya_yolu = r'C:\\Users\\ilyqs\\Downloads\\sonuc.xlsx'\n",
    "wb_new.save(sonuc_dosya_yolu)\n",
    "print(f\"Sonuç '{sonuc_dosya_yolu}' olarak kaydedildi.\")"
   ]
  }
 ],
 "metadata": {
  "jupytext": {
   "cell_metadata_filter": "-all",
   "main_language": "python",
   "notebook_metadata_filter": "-all"
  }
 },
 "nbformat": 4,
 "nbformat_minor": 5
}
