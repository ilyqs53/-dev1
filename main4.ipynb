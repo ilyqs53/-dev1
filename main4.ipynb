{
 "cells": [
  {
   "cell_type": "code",
   "execution_count": null,
   "id": "07313a3b",
   "metadata": {},
   "outputs": [],
   "source": [
    "import numpy as np\n",
    "yoğunluk_degerleri = np.array([100, 101, 102, 104, 105, 106, 107, 108, 109, 110, 140, 141, 142, 143, 144, 145, 146, 147, 148, 149, 150])\n",
    "piksel_sayilari = np.array([12, 10, 32, 52, 65, 55, 42, 32, 16, 10, 5, 18, 25, 32, 40, 65, 43, 32, 20, 10, 4])\n",
    "def otsu_esikleme(yogunluk_degerleri, piksel_sayilari):\n",
    "    tümü = np.sum(piksel_sayilari)\n",
    "    sumB = 0\n",
    "    wB = 0\n",
    "    maksimum = 0.0\n",
    "    optimal_esik_degeri = 0 \n",
    "    sum1 = np.dot(yogunluk_degerleri, piksel_sayilari)\n",
    "    for i in range(len(yogunluk_degerleri)):\n",
    "        wB += piksel_sayilari[i]\n",
    "        wF = tümü - wB\n",
    "        if wB == 0 or wF == 0:\n",
    "            continue\n",
    "        sumB += yogunluk_degerleri[i] * piksel_sayilari[i]\n",
    "        mB = sumB / wB\n",
    "        mF = (sum1 - sumB) / wF\n",
    "        between = wB * wF * ((mB - mF) ** 2)\n",
    "        if between > maksimum:\n",
    "            maksimum = between\n",
    "            optimal_esik_degeri = yogunluk_degerleri[i]  \n",
    "    return optimal_esik_degeri\n",
    "optimal_esik_degeri = otsu_esikleme(yoğunluk_degerleri, piksel_sayilari)\n",
    "print(f\"Optimal eşik değeri: {optimal_esik_degeri}\")"
   ]
  }
 ],
 "metadata": {
  "jupytext": {
   "cell_metadata_filter": "-all",
   "main_language": "python",
   "notebook_metadata_filter": "-all"
  }
 },
 "nbformat": 4,
 "nbformat_minor": 5
}
